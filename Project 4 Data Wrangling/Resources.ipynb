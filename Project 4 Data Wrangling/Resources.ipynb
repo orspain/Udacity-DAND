{
 "cells": [
  {
   "cell_type": "markdown",
   "metadata": {},
   "source": [
    ">\n",
    ">-[twitter API tutorial](https://towardsdatascience.com/twitter-data-collection-tutorial-using-python-3267d7cfa93e)\n",
    ">\n",
    ">-[JSON resource with examples](https://realpython.com/python-json/)\n",
    ">\n",
    ">-[python JSON encoder & decoder documentation](https://docs.python.org/3/library/json.html)\n",
    ">\n",
    ">-[pandas.set](https://pandas.pydata.org/pandas-docs/version/0.17.0/generated/pandas.set_option.html)\n",
    ">\n",
    ">-[pandas str.contains](https://pandas.pydata.org/pandas-docs/stable/reference/api/pandas.Series.str.contains.html)\n",
    ">\n",
    ">-[pandas str.extract](https://pandas.pydata.org/pandas-docs/stable/reference/api/pandas.Series.str.extract.html)\n",
    ">\n",
    ">-[pandas.merge](https://pandas.pydata.org/pandas-docs/stable/reference/api/pandas.DataFrame.merge.html)\n",
    ">\n",
    ">-[pandas.loc](https://pandas.pydata.org/pandas-docs/stable/reference/api/pandas.DataFrame.loc.html)\n",
    ">\n",
    ">-[pandas.to_datetime](https://pandas.pydata.org/pandas-docs/stable/reference/api/pandas.to_datetime.html)\n",
    ">\n",
    ">-[seaborn.set_context](https://seaborn.pydata.org/generated/seaborn.set_context.html)\n",
    ">\n",
    ">-[twitter data visualization](https://towardsdatascience.com/visualization-of-information-from-raw-twitter-data-part-1-99181ad19c)\n",
    "> \n",
    ">-[More twitter data visualization](https://towardsdatascience.com/developing-good-twitter-data-visualizations-using-matplotlib-8e39906b6be6)\n",
    ">\n",
    ">-[wordcloud](https://github.com/amueller/word_cloud)\n",
    ">"
   ]
  },
  {
   "cell_type": "code",
   "execution_count": null,
   "metadata": {},
   "outputs": [],
   "source": []
  }
 ],
 "metadata": {
  "kernelspec": {
   "display_name": "Python 3",
   "language": "python",
   "name": "python3"
  },
  "language_info": {
   "codemirror_mode": {
    "name": "ipython",
    "version": 3
   },
   "file_extension": ".py",
   "mimetype": "text/x-python",
   "name": "python",
   "nbconvert_exporter": "python",
   "pygments_lexer": "ipython3",
   "version": "3.7.3"
  }
 },
 "nbformat": 4,
 "nbformat_minor": 4
}
